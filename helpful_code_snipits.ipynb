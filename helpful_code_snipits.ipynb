{
 "cells": [
  {
   "cell_type": "markdown",
   "metadata": {},
   "source": [
    "## example for initial readme"
   ]
  },
  {
   "cell_type": "code",
   "execution_count": null,
   "metadata": {},
   "outputs": [],
   "source": [
    "# Technologies Used\n",
    "\n",
    "## Data Cleaning and Analysis\n",
    "Pandas will be used to clean the data and perform an exploratory analysis. Further analysis will be completed using Python.\n",
    "\n",
    "## Database Storage\n",
    "Mongo is the database we intend to use, and we will integrate Flask to display the data.\n",
    "\n",
    "## Machine Learning\n",
    "SciKitLearn is the ML library we'll be using to create a classifier. Our training and testing setup is ___. Extra ML verbiage here.\n",
    "\n",
    "## Dashboard\n",
    "In addition to using a Flask template, we will also integrate D3.js for a fully functioning and interactive dashboard. It will be hosted on ___."
   ]
  }
 ],
 "metadata": {
  "language_info": {
   "name": "python"
  },
  "orig_nbformat": 4
 },
 "nbformat": 4,
 "nbformat_minor": 2
}
