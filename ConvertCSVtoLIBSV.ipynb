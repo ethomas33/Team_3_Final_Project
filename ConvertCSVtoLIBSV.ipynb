{
 "cells": [
  {
   "cell_type": "markdown",
   "id": "9009e6f5",
   "metadata": {},
   "source": [
    "### https://github.com/zygmuntz/phraug/blob/master/csv2libsvm.py\n",
    "\n",
    "### Convert CSV file to libsvm format. Works only with numeric variables.\n",
    "### Put -1 as label index (argv[3]) if there are no labels in your file.\n",
    "### Expecting no headers. If present, headers can be skipped with argv[4] == 1."
   ]
  },
  {
   "cell_type": "code",
   "execution_count": 97,
   "id": "698b963d",
   "metadata": {},
   "outputs": [],
   "source": [
    "import sys\n",
    "import csv\n",
    "from collections import defaultdict"
   ]
  },
  {
   "cell_type": "code",
   "execution_count": 98,
   "id": "43f65093",
   "metadata": {},
   "outputs": [],
   "source": [
    "def construct_line( label, line ):\n",
    "\tnew_line = []\n",
    "\tif float( label ) == 0.0:\n",
    "\t\tlabel = \"0\"\n",
    "\tnew_line.append( label )\n",
    "\n",
    "\tfor i, item in enumerate( line ):\n",
    "\t\tif item == '' or float( item ) == 0.0:\n",
    "\t\t\tcontinue\n",
    "\t\tnew_item = \"%s:%s\" % ( i + 1, item )\n",
    "\t\tnew_line.append( new_item )\n",
    "\tnew_line = \" \".join( new_line )\n",
    "\tnew_line += \"\\n\"\n",
    "\treturn new_line"
   ]
  },
  {
   "cell_type": "code",
   "execution_count": 99,
   "id": "c1dfad94",
   "metadata": {},
   "outputs": [
    {
     "ename": "ValueError",
     "evalue": "could not convert string to float: 'Month'",
     "output_type": "error",
     "traceback": [
      "\u001b[0;31m---------------------------------------------------------------------------\u001b[0m",
      "\u001b[0;31mValueError\u001b[0m                                Traceback (most recent call last)",
      "\u001b[0;32m/var/folders/y3/m6w50_d13bbdwwd4f591k01w0000gn/T/ipykernel_44027/341491104.py\u001b[0m in \u001b[0;36m<module>\u001b[0;34m\u001b[0m\n\u001b[1;32m     26\u001b[0m                 \u001b[0mlabel\u001b[0m \u001b[0;34m=\u001b[0m \u001b[0mline\u001b[0m\u001b[0;34m.\u001b[0m\u001b[0mpop\u001b[0m\u001b[0;34m(\u001b[0m \u001b[0mlabel_index\u001b[0m \u001b[0;34m)\u001b[0m\u001b[0;34m\u001b[0m\u001b[0;34m\u001b[0m\u001b[0m\n\u001b[1;32m     27\u001b[0m \u001b[0;34m\u001b[0m\u001b[0m\n\u001b[0;32m---> 28\u001b[0;31m         \u001b[0mnew_line\u001b[0m \u001b[0;34m=\u001b[0m \u001b[0mconstruct_line\u001b[0m\u001b[0;34m(\u001b[0m \u001b[0mlabel\u001b[0m\u001b[0;34m,\u001b[0m \u001b[0mline\u001b[0m \u001b[0;34m)\u001b[0m\u001b[0;34m\u001b[0m\u001b[0;34m\u001b[0m\u001b[0m\n\u001b[0m\u001b[1;32m     29\u001b[0m         \u001b[0mo\u001b[0m\u001b[0;34m.\u001b[0m\u001b[0mwrite\u001b[0m\u001b[0;34m(\u001b[0m \u001b[0mnew_line\u001b[0m \u001b[0;34m)\u001b[0m\u001b[0;34m\u001b[0m\u001b[0;34m\u001b[0m\u001b[0m\n",
      "\u001b[0;32m/var/folders/y3/m6w50_d13bbdwwd4f591k01w0000gn/T/ipykernel_44027/2632710150.py\u001b[0m in \u001b[0;36mconstruct_line\u001b[0;34m(label, line)\u001b[0m\n\u001b[1;32m      1\u001b[0m \u001b[0;32mdef\u001b[0m \u001b[0mconstruct_line\u001b[0m\u001b[0;34m(\u001b[0m \u001b[0mlabel\u001b[0m\u001b[0;34m,\u001b[0m \u001b[0mline\u001b[0m \u001b[0;34m)\u001b[0m\u001b[0;34m:\u001b[0m\u001b[0;34m\u001b[0m\u001b[0;34m\u001b[0m\u001b[0m\n\u001b[1;32m      2\u001b[0m         \u001b[0mnew_line\u001b[0m \u001b[0;34m=\u001b[0m \u001b[0;34m[\u001b[0m\u001b[0;34m]\u001b[0m\u001b[0;34m\u001b[0m\u001b[0;34m\u001b[0m\u001b[0m\n\u001b[0;32m----> 3\u001b[0;31m         \u001b[0;32mif\u001b[0m \u001b[0mfloat\u001b[0m\u001b[0;34m(\u001b[0m \u001b[0mlabel\u001b[0m \u001b[0;34m)\u001b[0m \u001b[0;34m==\u001b[0m \u001b[0;36m0.0\u001b[0m\u001b[0;34m:\u001b[0m\u001b[0;34m\u001b[0m\u001b[0;34m\u001b[0m\u001b[0m\n\u001b[0m\u001b[1;32m      4\u001b[0m                 \u001b[0mlabel\u001b[0m \u001b[0;34m=\u001b[0m \u001b[0;34m\"0\"\u001b[0m\u001b[0;34m\u001b[0m\u001b[0;34m\u001b[0m\u001b[0m\n\u001b[1;32m      5\u001b[0m         \u001b[0mnew_line\u001b[0m\u001b[0;34m.\u001b[0m\u001b[0mappend\u001b[0m\u001b[0;34m(\u001b[0m \u001b[0mlabel\u001b[0m \u001b[0;34m)\u001b[0m\u001b[0;34m\u001b[0m\u001b[0;34m\u001b[0m\u001b[0m\n",
      "\u001b[0;31mValueError\u001b[0m: could not convert string to float: 'Month'"
     ]
    }
   ],
   "source": [
    "input_file = './Resources/for_test.csv'\n",
    "output_file = './Resources/for_test_SVM.txt'\n",
    "\n",
    "# try:\n",
    "# \tlabel_index == 1       #argv[3]\n",
    "# except IndexError:\n",
    "# \tlabel_index = 1\n",
    "\n",
    "# try:\n",
    "# \tskip_headers == 0      #argv[4]\n",
    "# except IndexError:\n",
    "# \tskip_headers = 0\n",
    "\n",
    "i = open( input_file, 'r' )\n",
    "o = open( output_file, 'w' )\n",
    "\n",
    "reader = csv.reader( i )\n",
    "\n",
    "# if skip_headers:\n",
    "# \theaders = next(reader)\n",
    "\n",
    "for line in reader:\n",
    "\tif label_index == 0:    #-1\n",
    "\t\tlabel = '1'       #'1'\n",
    "\telse:\n",
    "\t\tlabel = line.pop( label_index )\n",
    "\n",
    "\tnew_line = construct_line( label, line )\n",
    "\to.write( new_line )"
   ]
  },
  {
   "cell_type": "code",
   "execution_count": null,
   "id": "a9ab48f4",
   "metadata": {},
   "outputs": [],
   "source": []
  }
 ],
 "metadata": {
  "kernelspec": {
   "display_name": "mlenv",
   "language": "python",
   "name": "mlenv"
  },
  "language_info": {
   "codemirror_mode": {
    "name": "ipython",
    "version": 3
   },
   "file_extension": ".py",
   "mimetype": "text/x-python",
   "name": "python",
   "nbconvert_exporter": "python",
   "pygments_lexer": "ipython3",
   "version": "3.7.13"
  }
 },
 "nbformat": 4,
 "nbformat_minor": 5
}
