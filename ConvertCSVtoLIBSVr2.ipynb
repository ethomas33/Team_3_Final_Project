{
 "cells": [
  {
   "cell_type": "markdown",
   "id": "9009e6f5",
   "metadata": {},
   "source": [
    "### https://github.com/reuben-li/csv-to-libsvm-converter/blob/master/csv2libsvm.py\n",
    "\n",
    "### (1) -1 is now accepted as argv[2], this will print result to stdout instead of writing to file\n",
    "### (2) string labels(classes) are now mapped to categorical float values\n",
    "### Convert CSV file to libsvm format. Works only with numeric variables.\n",
    "### Put -1 as label index (argv[3]) if there are no labels in your file.\n",
    "### Expecting no headers. If present, headers can be skipped with argv[4] == 1."
   ]
  },
  {
   "cell_type": "code",
   "execution_count": 5,
   "id": "698b963d",
   "metadata": {},
   "outputs": [],
   "source": [
    "import sys\n",
    "import csv"
   ]
  },
  {
   "cell_type": "code",
   "execution_count": 6,
   "id": "43f65093",
   "metadata": {},
   "outputs": [],
   "source": [
    "def construct_line( label, line ):\n",
    "\tnew_line = []\n",
    "\ttry:\n",
    "\t\tif float( label ) == 0.0:\n",
    "\t\t\tlabel = \"0\"\n",
    "\texcept:\n",
    "\t\treturn -9999\n",
    "\n",
    "\tnew_line.append( label )\n",
    "\t\n",
    "\tfor i, item in enumerate( line ):\n",
    "\t\tif item == '' or float( item ) == 0.0:\n",
    "\t\t\tcontinue\n",
    "\t\tnew_item = \"%s:%s\" % ( i + 1, item )\n",
    "\t\tnew_line.append( new_item )\n",
    "\tnew_line = \" \".join( new_line )\n",
    "\tnew_line += \"\\n\"\n",
    "\treturn new_line"
   ]
  },
  {
   "cell_type": "code",
   "execution_count": 7,
   "id": "c1dfad94",
   "metadata": {},
   "outputs": [],
   "source": [
    "def construct_line_string( label, line, class_dict):\n",
    "\tnew_line = []\n",
    "\tnew_line.append( label )\n",
    "\t\n",
    "\tfor i, item in enumerate( line ):\n",
    "\t\tif item == '' or float( item ) == 0.0:\n",
    "\t\t\tcontinue\n",
    "\t\tnew_item = \"%s:%s\" % ( i + 1, item )\n",
    "\t\tnew_line.append( new_item )\n",
    "\tnew_line = \" \".join( new_line )\n",
    "\treturn new_line"
   ]
  },
  {
   "cell_type": "code",
   "execution_count": 8,
   "id": "a9ab48f4",
   "metadata": {},
   "outputs": [
    {
     "ename": "NameError",
     "evalue": "name 'skip_headers' is not defined",
     "output_type": "error",
     "traceback": [
      "\u001b[0;31m---------------------------------------------------------------------------\u001b[0m",
      "\u001b[0;31mNameError\u001b[0m                                 Traceback (most recent call last)",
      "\u001b[0;32m/var/folders/y3/m6w50_d13bbdwwd4f591k01w0000gn/T/ipykernel_70723/4177909446.py\u001b[0m in \u001b[0;36m<module>\u001b[0;34m\u001b[0m\n\u001b[1;32m     12\u001b[0m \u001b[0;34m\u001b[0m\u001b[0m\n\u001b[1;32m     13\u001b[0m \u001b[0;32mtry\u001b[0m\u001b[0;34m:\u001b[0m\u001b[0;34m\u001b[0m\u001b[0;34m\u001b[0m\u001b[0m\n\u001b[0;32m---> 14\u001b[0;31m         \u001b[0mskip_headers\u001b[0m \u001b[0;34m==\u001b[0m \u001b[0;36m1\u001b[0m          \u001b[0;31m# sys.argv[4]\u001b[0m\u001b[0;34m\u001b[0m\u001b[0;34m\u001b[0m\u001b[0m\n\u001b[0m\u001b[1;32m     15\u001b[0m \u001b[0;32mexcept\u001b[0m \u001b[0mIndexError\u001b[0m\u001b[0;34m:\u001b[0m\u001b[0;34m\u001b[0m\u001b[0;34m\u001b[0m\u001b[0m\n\u001b[1;32m     16\u001b[0m         \u001b[0mskip_headers\u001b[0m \u001b[0;34m=\u001b[0m \u001b[0;36m0\u001b[0m\u001b[0;34m\u001b[0m\u001b[0;34m\u001b[0m\u001b[0m\n",
      "\u001b[0;31mNameError\u001b[0m: name 'skip_headers' is not defined"
     ]
    }
   ],
   "source": [
    "input_file = './Resources/delay_clean.csv'\n",
    "\n",
    "if sys.argv[2] == '-1':\n",
    "\tpass\n",
    "else:\n",
    "\toutput_file = './Resources/delay_clean_SVM.txt'\n",
    "\n",
    "try:\n",
    "\tlabel_index = int(0)           # sys.argv[3])\n",
    "except IndexError:\n",
    "\tlabel_index = 0\n",
    "\t\n",
    "try:\n",
    "\tskip_headers == 1          # sys.argv[4]\n",
    "except IndexError:\n",
    "\tskip_headers = 0\t\n",
    "\n",
    "i = open( input_file )\n",
    "if sys.argv[2] == '-1':\n",
    "\tpass\n",
    "else:\n",
    "\to = open( output_file, 'w' )\n",
    "\n",
    "reader = csv.reader( i )\n",
    "if skip_headers:\n",
    "\theaders = next(reader)\n",
    "\n",
    "trigger = False\n",
    "for line in reader:\n",
    "\tif label_index == -1:\n",
    "\t\tlabel = 1\n",
    "\telse:\n",
    "\t\tlabel = line.pop( label_index )\n",
    "\t\t\n",
    "\tif trigger == False:\n",
    "\t\tnew_line = construct_line( label, line )\n",
    "\telse:\t\n",
    "\t\tnew_line = construct_line_string( label, line, class_dict )\n",
    "\t\n",
    "\tif new_line == -9999:\n",
    "\t\ttrigger = True\n",
    "\t\tclass_dict = {}\n",
    "\t\t\n",
    "\tif sys.argv[2] == '-1':\n",
    "\t\tprint (new_line)\n",
    "\telse:\n",
    "\t\to.write( new_line + '\\n' )"
   ]
  },
  {
   "cell_type": "code",
   "execution_count": null,
   "id": "3e712169",
   "metadata": {},
   "outputs": [],
   "source": []
  }
 ],
 "metadata": {
  "kernelspec": {
   "display_name": "mlenv",
   "language": "python",
   "name": "mlenv"
  },
  "language_info": {
   "codemirror_mode": {
    "name": "ipython",
    "version": 3
   },
   "file_extension": ".py",
   "mimetype": "text/x-python",
   "name": "python",
   "nbconvert_exporter": "python",
   "pygments_lexer": "ipython3",
   "version": "3.7.13"
  }
 },
 "nbformat": 4,
 "nbformat_minor": 5
}
